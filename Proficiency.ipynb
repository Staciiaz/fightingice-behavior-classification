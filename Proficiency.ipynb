{
 "cells": [
  {
   "cell_type": "code",
   "execution_count": 1,
   "id": "5be8e510-7e00-4a4f-8710-efe59035aaff",
   "metadata": {},
   "outputs": [],
   "source": [
    "import matplotlib.pyplot as plt\n",
    "import seaborn as sns\n",
    "import pandas as pd\n",
    "import numpy as np\n",
    "import statistics as st\n",
    "import math\n",
    "import os"
   ]
  },
  {
   "cell_type": "code",
   "execution_count": 2,
   "id": "f13bdb3b-ecd1-43b8-bf7b-16432a291cf7",
   "metadata": {},
   "outputs": [],
   "source": [
    "def get_path(ai_name, character_name):\n",
    "    directory = 'ftg-data/Speedrunning/'\n",
    "    return directory + ai_name + '/' + character_name\n",
    "\n",
    "def get_proficiencies(ai_name, character_name):\n",
    "    path = get_path(ai_name, character_name)\n",
    "    files = os.listdir(path)\n",
    "    proficiencies = []\n",
    "    for file_name in files:\n",
    "        df = pd.read_csv(path + '/' + file_name)\n",
    "        result = df.iloc[-1]\n",
    "        is_win_bin = float(result.agent_hp_percentage > result.target_hp_percentage)\n",
    "        normalized_time = len(df) / 3600\n",
    "        w1, w2, w3, w4 = 0.1, 0.1, 0.1, 0.1\n",
    "        proficiency = (w1 * is_win_bin + w2 * (1 - normalized_time) + w3 * result.agent_hp_percentage + w4 * (1 - result.target_hp_percentage)) / (w1 + w2 + w3 + w4)\n",
    "        proficiencies.append(proficiency)\n",
    "    return proficiencies"
   ]
  },
  {
   "cell_type": "code",
   "execution_count": 3,
   "id": "4c39f6df-2786-4756-8898-ae487a73eb50",
   "metadata": {},
   "outputs": [],
   "source": [
    "ai_names = ['BlackMamba', 'WinOrGoHome', 'Thunder2021', 'ERHEA_PPO_PG', 'LTAI']\n",
    "character_names = ['ZEN', 'GARNET', 'LUD']\n",
    "colors = {\n",
    "    'ZEN': 'lightblue',\n",
    "    'GARNET': 'pink',\n",
    "    'LUD': 'lightgreen'\n",
    "}"
   ]
  },
  {
   "cell_type": "code",
   "execution_count": 4,
   "id": "0177f1e4-720a-4dff-91ef-bbe91ac20502",
   "metadata": {},
   "outputs": [],
   "source": [
    "ai_data = {}\n",
    "for ai_name in ai_names:\n",
    "    ai_data[ai_name] = {}\n",
    "    for character_name in character_names:\n",
    "        ai_data[ai_name][character_name] = get_proficiencies(ai_name, character_name)"
   ]
  },
  {
   "cell_type": "code",
   "execution_count": 5,
   "id": "c5fb7428-6c41-45aa-aaac-f5274f1e2b0f",
   "metadata": {},
   "outputs": [
    {
     "data": {
      "image/png": "[encoded data removed]",
      "text/plain": [
       "<Figure size 1080x720 with 6 Axes>"
      ]
     },
     "metadata": {
      "needs_background": "light"
     },
     "output_type": "display_data"
    }
   ],
   "source": [
    "nrow = 2\n",
    "ncol = 3\n",
    "fig, axs = plt.subplots(nrow, ncol, figsize=(ncol * 5, nrow * 5))\n",
    "for ax, ai_name in zip(fig.get_axes(), ai_data.keys()):\n",
    "    data = ai_data[ai_name]\n",
    "    ax.set_title(ai_name)\n",
    "    ax.set_ylim([0, 1])\n",
    "    ax.yaxis.grid(True)\n",
    "    bp = ax.boxplot([data[x] for x in data.keys()]\n",
    "                    , labels=data.keys()\n",
    "                    , widths=.15\n",
    "                    , patch_artist=True\n",
    "                    , showfliers=False)\n",
    "    for patch, color in zip(bp['boxes'], ['lightblue', 'pink', 'lightgreen']):\n",
    "        patch.set_facecolor(color)\n",
    "plt.show()"
   ]
  },
  {
   "cell_type": "code",
   "execution_count": null,
   "id": "a8b7007b-c144-477e-ae2a-df61d37b46a4",
   "metadata": {},
   "outputs": [],
   "source": []
  }
 ],
 "metadata": {
  "kernelspec": {
   "display_name": "Python 3 (ipykernel)",
   "language": "python",
   "name": "python3"
  },
  "language_info": {
   "codemirror_mode": {
    "name": "ipython",
    "version": 3
   },
   "file_extension": ".py",
   "mimetype": "text/x-python",
   "name": "python",
   "nbconvert_exporter": "python",
   "pygments_lexer": "ipython3",
   "version": "3.7.11"
  }
 },
 "nbformat": 4,
 "nbformat_minor": 5
}
