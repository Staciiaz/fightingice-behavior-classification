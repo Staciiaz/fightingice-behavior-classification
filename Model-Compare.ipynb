{
 "cells": [
  {
   "cell_type": "code",
   "execution_count": 1,
   "id": "483c625b-732c-40b2-8762-c4b6e1249737",
   "metadata": {},
   "outputs": [],
   "source": [
    "import tensorflow as tf\n",
    "from sklearn.metrics import classification_report, confusion_matrix\n",
    "import pandas as pd\n",
    "import numpy as np\n",
    "import os"
   ]
  },
  {
   "cell_type": "code",
   "execution_count": 2,
   "id": "80a783a5-3aff-44aa-ba52-4f5a5f6a8060",
   "metadata": {},
   "outputs": [],
   "source": [
    "def extract(path, include_df=False):\n",
    "    df = pd.concat([pd.read_csv(os.path.join(path, file)) for file in os.listdir(path)])\n",
    "    features = df.copy()\n",
    "    labels = features.pop('agent_action')\n",
    "    return (np.array(features), np.array(labels)) if not include_df else (df, np.array(features), np.array(labels))"
   ]
  },
  {
   "cell_type": "code",
   "execution_count": 3,
   "id": "792e9e54-6031-4099-8866-ab2514c4488f",
   "metadata": {},
   "outputs": [],
   "source": [
    "path = 'ftg-data/Dataset/BlackMamba/'\n",
    "\n",
    "df, features, labels = extract(os.path.join(path, 'export'), include_df=True)"
   ]
  },
  {
   "cell_type": "code",
   "execution_count": 4,
   "id": "41ecd7aa-a763-4f43-9bcc-460a4ef49ede",
   "metadata": {},
   "outputs": [],
   "source": [
    "class_names = ['neutral', 'stand', 'forward_walk', 'dash', 'back_step', 'crouch', 'jump', 'for_jump', 'back_jump', 'air'\n",
    "             , 'stand_guard', 'crouch_guard', 'air_guard', 'stand_guard_recov', 'crouch_guard_recov', 'air_guard_recov'\n",
    "             , 'stand_recov', 'crouch_recov', 'air_recov', 'change_down', 'down', 'rise', 'landing', 'throw_a', 'throw_b'\n",
    "             , 'throw_hit', 'throw_suffer', 'stand_a', 'stand_b', 'crouch_a', 'crouch_b', 'air_a', 'air_b', 'air_da', 'air_db'\n",
    "             , 'stand_fa', 'stand_fb', 'crouch_fa', 'crouch_fb', 'air_fa', 'air_fb', 'air_ua', 'air_ub', 'stand_d_df_fa'\n",
    "             , 'stand_d_df_fb', 'stand_f_d_dfa', 'stand_f_d_dfb', 'stand_d_db_ba', 'stand_d_db_bb', 'air_d_df_fa'\n",
    "             , 'air_d_df_fb', 'air_f_d_dfa', 'air_f_d_dfb', 'air_d_db_ba', 'air_d_db_bb', 'stand_d_df_fc']\n",
    "\n",
    "model = tf.keras.models.load_model(os.path.join(path, 'saved_model/model.h5'))"
   ]
  },
  {
   "cell_type": "code",
   "execution_count": 5,
   "id": "60e7a81a-de96-4fcd-959c-2acc43900cd2",
   "metadata": {},
   "outputs": [
    {
     "data": {
      "text/html": [
       "<div>\n",
       "<style scoped>\n",
       "    .dataframe tbody tr th:only-of-type {\n",
       "        vertical-align: middle;\n",
       "    }\n",
       "\n",
       "    .dataframe tbody tr th {\n",
       "        vertical-align: top;\n",
       "    }\n",
       "\n",
       "    .dataframe thead th {\n",
       "        text-align: right;\n",
       "    }\n",
       "</style>\n",
       "<table border=\"1\" class=\"dataframe\">\n",
       "  <thead>\n",
       "    <tr style=\"text-align: right;\">\n",
       "      <th></th>\n",
       "      <th>actual_action</th>\n",
       "      <th>predicted_action</th>\n",
       "    </tr>\n",
       "  </thead>\n",
       "  <tbody>\n",
       "    <tr>\n",
       "      <th>0</th>\n",
       "      <td>stand</td>\n",
       "      <td>stand</td>\n",
       "    </tr>\n",
       "    <tr>\n",
       "      <th>1</th>\n",
       "      <td>crouch</td>\n",
       "      <td>crouch</td>\n",
       "    </tr>\n",
       "    <tr>\n",
       "      <th>2</th>\n",
       "      <td>crouch</td>\n",
       "      <td>crouch</td>\n",
       "    </tr>\n",
       "    <tr>\n",
       "      <th>3</th>\n",
       "      <td>crouch</td>\n",
       "      <td>crouch</td>\n",
       "    </tr>\n",
       "    <tr>\n",
       "      <th>4</th>\n",
       "      <td>crouch</td>\n",
       "      <td>crouch</td>\n",
       "    </tr>\n",
       "    <tr>\n",
       "      <th>...</th>\n",
       "      <td>...</td>\n",
       "      <td>...</td>\n",
       "    </tr>\n",
       "    <tr>\n",
       "      <th>1770</th>\n",
       "      <td>crouch_b</td>\n",
       "      <td>crouch_b</td>\n",
       "    </tr>\n",
       "    <tr>\n",
       "      <th>1771</th>\n",
       "      <td>crouch_b</td>\n",
       "      <td>crouch_b</td>\n",
       "    </tr>\n",
       "    <tr>\n",
       "      <th>1772</th>\n",
       "      <td>crouch_b</td>\n",
       "      <td>crouch_b</td>\n",
       "    </tr>\n",
       "    <tr>\n",
       "      <th>1773</th>\n",
       "      <td>crouch_b</td>\n",
       "      <td>crouch_b</td>\n",
       "    </tr>\n",
       "    <tr>\n",
       "      <th>1774</th>\n",
       "      <td>crouch_b</td>\n",
       "      <td>crouch_b</td>\n",
       "    </tr>\n",
       "  </tbody>\n",
       "</table>\n",
       "<p>1775 rows × 2 columns</p>\n",
       "</div>"
      ],
      "text/plain": [
       "     actual_action predicted_action\n",
       "0            stand            stand\n",
       "1           crouch           crouch\n",
       "2           crouch           crouch\n",
       "3           crouch           crouch\n",
       "4           crouch           crouch\n",
       "...            ...              ...\n",
       "1770      crouch_b         crouch_b\n",
       "1771      crouch_b         crouch_b\n",
       "1772      crouch_b         crouch_b\n",
       "1773      crouch_b         crouch_b\n",
       "1774      crouch_b         crouch_b\n",
       "\n",
       "[1775 rows x 2 columns]"
      ]
     },
     "execution_count": 5,
     "metadata": {},
     "output_type": "execute_result"
    }
   ],
   "source": [
    "predicted = [np.argmax(x) for x in model.predict(features)]\n",
    "# df = df.drop(columns=['target_selected_action'])\n",
    "export_df = pd.DataFrame()\n",
    "export_df['actual_action'] = [class_names[x] for x in labels]\n",
    "export_df['predicted_action'] = [class_names[x] for x in predicted]\n",
    "export_df.to_csv(os.path.join(path, 'compare.csv'))\n",
    "export_df"
   ]
  },
  {
   "cell_type": "code",
   "execution_count": 6,
   "id": "08b0d7a4-7efc-4294-809f-66b10636dc34",
   "metadata": {},
   "outputs": [
    {
     "name": "stdout",
     "output_type": "stream",
     "text": [
      "               precision    recall  f1-score   support\n",
      "\n",
      "        stand       0.95      1.00      0.97       134\n",
      " forward_walk       1.00      0.81      0.89        26\n",
      "         dash       0.80      1.00      0.89        12\n",
      "       crouch       0.71      0.98      0.82        42\n",
      "     for_jump       1.00      1.00      1.00        13\n",
      "          air       1.00      0.96      0.98        48\n",
      " crouch_guard       0.85      0.97      0.90        29\n",
      "  stand_recov       1.00      1.00      1.00        75\n",
      " crouch_recov       1.00      1.00      1.00        43\n",
      "  change_down       1.00      1.00      1.00        30\n",
      "         down       1.00      1.00      1.00       126\n",
      "         rise       1.00      1.00      1.00       174\n",
      "      landing       1.00      1.00      1.00        24\n",
      " throw_suffer       0.94      1.00      0.97        58\n",
      "      stand_a       1.00      0.88      0.94        17\n",
      "      stand_b       1.00      1.00      1.00        82\n",
      "     crouch_a       1.00      0.94      0.97        36\n",
      "     crouch_b       1.00      1.00      1.00       449\n",
      "        air_a       1.00      1.00      1.00        13\n",
      "        air_b       1.00      1.00      1.00        22\n",
      "       air_da       1.00      1.00      1.00        24\n",
      "       air_fb       1.00      1.00      1.00        23\n",
      "stand_f_d_dfb       0.96      0.88      0.92        59\n",
      "stand_d_db_bb       1.00      0.81      0.89       180\n",
      "  air_d_db_bb       1.00      1.00      1.00        36\n",
      "\n",
      "    micro avg       0.98      0.97      0.97      1775\n",
      "    macro avg       0.97      0.97      0.97      1775\n",
      " weighted avg       0.98      0.97      0.97      1775\n",
      "\n"
     ]
    }
   ],
   "source": [
    "action_labels = list(set(labels))\n",
    "class_names = [class_names[x] for x in action_labels]\n",
    "report = classification_report(labels, predicted, labels=action_labels, target_names=class_names, zero_division=0)\n",
    "print(report)"
   ]
  },
  {
   "cell_type": "code",
   "execution_count": null,
   "id": "9d27438e-d403-4e68-9d31-59b1d31f549d",
   "metadata": {},
   "outputs": [],
   "source": []
  }
 ],
 "metadata": {
  "kernelspec": {
   "display_name": "Python 3 (ipykernel)",
   "language": "python",
   "name": "python3"
  },
  "language_info": {
   "codemirror_mode": {
    "name": "ipython",
    "version": 3
   },
   "file_extension": ".py",
   "mimetype": "text/x-python",
   "name": "python",
   "nbconvert_exporter": "python",
   "pygments_lexer": "ipython3",
   "version": "3.7.11"
  }
 },
 "nbformat": 4,
 "nbformat_minor": 5
}
