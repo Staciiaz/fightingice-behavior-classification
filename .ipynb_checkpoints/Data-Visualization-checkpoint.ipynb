{
 "cells": [
  {
   "cell_type": "code",
   "execution_count": null,
   "id": "483c625b-732c-40b2-8762-c4b6e1249737",
   "metadata": {},
   "outputs": [],
   "source": [
    "import tensorflow as tf\n",
    "import matplotlib.pyplot as plt\n",
    "import pandas as pd\n",
    "import numpy as np\n",
    "import os\n",
    "import collections"
   ]
  },
  {
   "cell_type": "code",
   "execution_count": null,
   "id": "80a783a5-3aff-44aa-ba52-4f5a5f6a8060",
   "metadata": {},
   "outputs": [],
   "source": [
    "def extract(path, include_df=False):\n",
    "    df = pd.concat([pd.read_csv(os.path.join(path, file)) for file in os.listdir(path)])\n",
    "    features = df.iloc[0:,:-1].copy()\n",
    "    labels = features.pop('agent_selected_action')\n",
    "    return (np.array(features), np.array(labels)) if not include_df else (df, np.array(features), np.array(labels))"
   ]
  },
  {
   "cell_type": "code",
   "execution_count": null,
   "id": "792e9e54-6031-4099-8866-ab2514c4488f",
   "metadata": {},
   "outputs": [],
   "source": [
    "path = 'ftg-data/Dataset/BlackMamba/'\n",
    "\n",
    "features, labels = extract(os.path.join(path, 'testset'), include_df=False)"
   ]
  },
  {
   "cell_type": "code",
   "execution_count": null,
   "id": "41ecd7aa-a763-4f43-9bcc-460a4ef49ede",
   "metadata": {},
   "outputs": [],
   "source": [
    "class_names = ['neutral', 'stand', 'forward_walk', 'dash', 'back_step', 'crouch', 'jump', 'for_jump', 'back_jump', 'air'\n",
    "             , 'stand_guard', 'crouch_guard', 'air_guard', 'stand_guard_recov', 'crouch_guard_recov', 'air_guard_recov'\n",
    "             , 'stand_recov', 'crouch_recov', 'air_recov', 'change_down', 'down', 'rise', 'landing', 'throw_a', 'throw_b'\n",
    "             , 'throw_hit', 'throw_suffer', 'stand_a', 'stand_b', 'crouch_a', 'crouch_b', 'air_a', 'air_b', 'air_da', 'air_db'\n",
    "             , 'stand_fa', 'stand_fb', 'crouch_fa', 'crouch_fb', 'air_fa', 'air_fb', 'air_ua', 'air_ub', 'stand_d_df_fa'\n",
    "             , 'stand_d_df_fb', 'stand_f_d_dfa', 'stand_f_d_dfb', 'stand_d_db_ba', 'stand_d_db_bb', 'air_d_df_fa'\n",
    "             , 'air_d_df_fb', 'air_f_d_dfa', 'air_f_d_dfb', 'air_d_db_ba', 'air_d_db_bb', 'stand_d_df_fc']"
   ]
  },
  {
   "cell_type": "code",
   "execution_count": null,
   "id": "b6748862-4f52-445b-a2ad-56a7aa96da3b",
   "metadata": {},
   "outputs": [],
   "source": [
    "collection.Counter(labels)"
   ]
  },
  {
   "cell_type": "code",
   "execution_count": null,
   "id": "08b0d7a4-7efc-4294-809f-66b10636dc34",
   "metadata": {},
   "outputs": [],
   "source": [
    "x = np.arange(len(class_names))\n",
    "fig, ax = plt.subplots()\n",
    "\n",
    "p1 = ax.bar(x, menMeans, width, yerr=menStd, label='Men')\n",
    "\n",
    "ax.axhline(0, color='grey', linewidth=0.8)\n",
    "# ax.set_ylabel('Scores')\n",
    "# ax.set_title('Scores by group and gender')\n",
    "ax.set_xticks(x)\n",
    "ax.set_xticklabels(class_names)\n",
    "ax.legend()\n",
    "\n",
    "# Label with label_type 'center' instead of the default 'edge'\n",
    "ax.bar_label(p1, label_type='center')\n",
    "\n",
    "plt.show()"
   ]
  }
 ],
 "metadata": {
  "kernelspec": {
   "display_name": "Python 3 (ipykernel)",
   "language": "python",
   "name": "python3"
  },
  "language_info": {
   "codemirror_mode": {
    "name": "ipython",
    "version": 3
   },
   "file_extension": ".py",
   "mimetype": "text/x-python",
   "name": "python",
   "nbconvert_exporter": "python",
   "pygments_lexer": "ipython3",
   "version": "3.7.11"
  }
 },
 "nbformat": 4,
 "nbformat_minor": 5
}
